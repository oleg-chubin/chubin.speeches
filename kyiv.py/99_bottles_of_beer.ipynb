{
 "metadata": {
  "name": "Walking through a cycle"
 },
 "nbformat": 3,
 "nbformat_minor": 0,
 "worksheets": [
  {
   "cells": [
    {
     "cell_type": "heading",
     "level": 2,
     "metadata": {},
     "source": "for statement"
    },
    {
     "cell_type": "heading",
     "level": 3,
     "metadata": {},
     "source": "for with else"
    },
    {
     "cell_type": "code",
     "collapsed": false,
     "input": "for i in range(3):\n   if i%2:\n       continue\n   print i\n   if i>5:\n      break\nelse:\n   print \"there hasn't been any break\"",
     "language": "python",
     "metadata": {},
     "outputs": []
    },
    {
     "cell_type": "heading",
     "level": 3,
     "metadata": {},
     "source": "exception in for loop"
    },
    {
     "cell_type": "code",
     "collapsed": false,
     "input": "for i in range(3):\n   try:\n       if i%2:\n           continue\n       if i>=2:\n          break\n   except:\n       print \"exception was  raised {0}\".format(i)\n   else:\n       print \"exception was not raised {0}\".format(i)\n   finally:\n       print \"anyway {0}\".format(i)\nelse:\n   print \"there hasn't been any break\"",
     "language": "python",
     "metadata": {},
     "outputs": []
    },
    {
     "cell_type": "heading",
     "level": 2,
     "metadata": {},
     "source": "Nested list comprehensions and generator expressions"
    },
    {
     "cell_type": "heading",
     "level": 3,
     "metadata": {},
     "source": "General syntax"
    },
    {
     "cell_type": "markdown",
     "metadata": {},
     "source": "####Generator expression\n```\n(expression for i in s if cond1\n                   for j in t if cond2\n                   ...\n                   if condfinal)\n```\n####List comprehension\n```\n[expression for i in s if cond1\n                   for j in t if cond2\n                   ...\n                   if condfinal]\n```\n####Dict comprehension\n```\n{i:expression for i in s if cond1\n                   for j in t if cond2\n                   ...\n                   if condfinal}\n```\n####Set comprehension\n```\n{i for i in s if cond1\n                   for j in t if cond2\n                   ...\n                   if condfinal}\n```"
    },
    {
     "cell_type": "heading",
     "level": 3,
     "metadata": {},
     "source": "generator expression Vs. list comprehension"
    },
    {
     "cell_type": "markdown",
     "metadata": {},
     "source": "- Does not construct a list.\n- Only useful purpose is iteration\n- Once consumed, can't be reused"
    },
    {
     "cell_type": "code",
     "collapsed": false,
     "input": "a = [1,2,3,4]\nb = [2*x for x in a]\nb",
     "language": "python",
     "metadata": {},
     "outputs": []
    },
    {
     "cell_type": "code",
     "collapsed": false,
     "input": "c = (2*x for x in a)",
     "language": "python",
     "metadata": {},
     "outputs": []
    },
    {
     "cell_type": "heading",
     "level": 3,
     "metadata": {},
     "source": "simplified syntax"
    },
    {
     "cell_type": "code",
     "collapsed": false,
     "input": "sum(x*x for x in s)",
     "language": "python",
     "metadata": {},
     "outputs": []
    },
    {
     "cell_type": "heading",
     "level": 2,
     "metadata": {},
     "source": "Iterable objects"
    },
    {
     "cell_type": "heading",
     "level": 3,
     "metadata": {},
     "source": "Iterator protocol"
    },
    {
     "cell_type": "markdown",
     "metadata": {},
     "source": "Iteration over containers is implemented using two distinct methods:\n\n- ```iterator.__iter__()``` (returns an iterator object)\n- ```iterator.next()``` (returns next item for iterator)\n\nraise ```StopIteration``` when there is no items left"
    },
    {
     "cell_type": "heading",
     "level": 3,
     "metadata": {},
     "source": "Sequence"
    },
    {
     "cell_type": "markdown",
     "metadata": {},
     "source": "There are builtin sequence types such as\n\n- list\n- tuple\n- string\n\nAnd You can define Your own sequence class defining method ```__getitem__```.\n\niteration over instances of builtin sequences are fast because the  classes write on C\n\nbut repeated iteration over them will cause holding them in memory"
    },
    {
     "cell_type": "code",
     "collapsed": false,
     "input": "class A(object):\n    def __getitem__(self, item):\n        if item < self.value:\n            return item\n        else:\n            raise IndexError\n    def __init__(self, value):\n         self.i = 0\n         self.value = value\nfor i in A(3):\n    print i",
     "language": "python",
     "metadata": {},
     "outputs": []
    },
    {
     "cell_type": "heading",
     "level": 3,
     "metadata": {},
     "source": "Casting to list"
    },
    {
     "cell_type": "code",
     "collapsed": false,
     "input": "class MyIter():\n    def __len__(self):\n        print \"__len__\"\n        return 5\n    def __iter__(self):\n        print \"__iter__\"\n        return iter([1,2,3,4,5])\n\nlist(MyIter())",
     "language": "python",
     "metadata": {},
     "outputs": []
    },
    {
     "cell_type": "markdown",
     "metadata": {},
     "source": "casting to list call ```__iter__``` first and then trying to call ```__len__``` to allocate memory\n\n```\nit = PyObject_GetIter(b);\nif (it == NULL)\n   return NULL;\niternext = *it->ob_type->tp_iternext;\n/* Guess a result list size. */\nn = _PyObject_LengthHint(b, 8);\n   if (n == -1) {\n   Py_DECREF(it);\n   return NULL;\n}\n```\n*(Objects/listobject.c)*"
    },
    {
     "cell_type": "markdown",
     "metadata": {},
     "source": "this can cause undesired ```__len__``` code running.\nFor example if ```__len__```  makes call to database or do some other things\nIn this case use list comprehension instead or cast to iter first"
    },
    {
     "cell_type": "code",
     "collapsed": false,
     "input": "list(iter(MyIter()))",
     "language": "python",
     "metadata": {},
     "outputs": []
    },
    {
     "cell_type": "code",
     "collapsed": false,
     "input": "[i for i in MyIter()]",
     "language": "python",
     "metadata": {},
     "outputs": []
    },
    {
     "cell_type": "heading",
     "level": 3,
     "metadata": {},
     "source": "length hint"
    },
    {
     "cell_type": "markdown",
     "metadata": {},
     "source": "There is PEP 424 about Cpython optimization. but I am not sure that Iam using it correctly.\n\n```__length_hint__``` must return an integer (else a ```TypeError``` is raised) or ```NotImplemented```, and is not required to be accurate. It may return a value that is either larger or smaller than the actual size of the container. A return value of ```NotImplemented``` indicates that there is no finite length estimate. It may not return a negative value (else a ```ValueError``` is raised)."
    },
    {
     "cell_type": "code",
     "collapsed": false,
     "input": "class MyIter():\n    def __len__(self):\n        print (\"__len__\")\n        return 5\n    def __length_hint__(self):\n        \"\"\" return approximate hint\"\"\"\n        print ('hint')\n        return 4\n    def __iter__(self):\n        print (\"__iter__\")\n        return iter([1,2,3,4,5])\n\nlist(MyIter())",
     "language": "python",
     "metadata": {},
     "outputs": []
    },
    {
     "cell_type": "heading",
     "level": 3,
     "metadata": {},
     "source": "collections.Iterable and collections.Iterator"
    },
    {
     "cell_type": "markdown",
     "metadata": {},
     "source": "#### class collections.abc.Iterable\n\n   ABC for classes that provide the ```__iter__()``` method. See also the definition of iterable.\n\n\n#### class collections.abc.Iterator\n\n   ABC for classes that provide the ```__iter__()``` and ```next()``` methods. See also the definition of iterator."
    },
    {
     "cell_type": "code",
     "collapsed": false,
     "input": "import collections",
     "language": "python",
     "metadata": {},
     "outputs": [],
     "prompt_number": 1
    },
    {
     "cell_type": "code",
     "collapsed": false,
     "input": "isinstance((i for i in [1, 2]), collections.Iterable)",
     "language": "python",
     "metadata": {},
     "outputs": []
    },
    {
     "cell_type": "code",
     "collapsed": false,
     "input": "isinstance((i for i in [1, 2]), collections.Iterator)",
     "language": "python",
     "metadata": {},
     "outputs": []
    },
    {
     "cell_type": "code",
     "collapsed": false,
     "input": "isinstance([1, 2], collections.Iterable)",
     "language": "python",
     "metadata": {},
     "outputs": []
    },
    {
     "cell_type": "code",
     "collapsed": false,
     "input": "[1, 2].__iter__",
     "language": "python",
     "metadata": {},
     "outputs": []
    },
    {
     "cell_type": "code",
     "collapsed": false,
     "input": "isinstance([1, 2], collections.Iterator)",
     "language": "python",
     "metadata": {},
     "outputs": []
    },
    {
     "cell_type": "code",
     "collapsed": false,
     "input": "isinstance(iter([1, 2]), collections.Iterator)",
     "language": "python",
     "metadata": {},
     "outputs": []
    },
    {
     "cell_type": "code",
     "collapsed": false,
     "input": "class SomeIteratorContainer(object):\n    def __iter__(self):\n        return iter(SomeIterator())\n\nclass SomeIterator(object):\n    def __init__(self):\n        self.i = 0\n    def __iter__(self):\n        return self\n    def next(self):\n        self.i += 1\n        if self.i > 10: raise StopIteration\n        return self.i",
     "language": "python",
     "metadata": {},
     "outputs": []
    },
    {
     "cell_type": "code",
     "collapsed": false,
     "input": "isinstance(SomeIteratorContainer(), collections.Iterable)",
     "language": "python",
     "metadata": {},
     "outputs": []
    },
    {
     "cell_type": "code",
     "collapsed": false,
     "input": "isinstance(SomeIteratorContainer(), collections.Iterator)",
     "language": "python",
     "metadata": {},
     "outputs": []
    },
    {
     "cell_type": "code",
     "collapsed": false,
     "input": "isinstance(iter(SomeIteratorContainer()), collections.Iterator)",
     "language": "python",
     "metadata": {},
     "outputs": []
    },
    {
     "cell_type": "code",
     "collapsed": false,
     "input": "isinstance(SomeIterator(), collections.Iterable)",
     "language": "python",
     "metadata": {},
     "outputs": []
    },
    {
     "cell_type": "code",
     "collapsed": false,
     "input": "isinstance(SomeIterator(), collections.Iterator)",
     "language": "python",
     "metadata": {},
     "outputs": []
    },
    {
     "cell_type": "code",
     "collapsed": false,
     "input": "isinstance('', collections.Iterator)",
     "language": "python",
     "metadata": {},
     "outputs": []
    },
    {
     "cell_type": "code",
     "collapsed": false,
     "input": "isinstance('', collections.Iterable)",
     "language": "python",
     "metadata": {},
     "outputs": []
    },
    {
     "cell_type": "code",
     "collapsed": false,
     "input": "''.__iter__",
     "language": "python",
     "metadata": {},
     "outputs": []
    },
    {
     "cell_type": "heading",
     "level": 3,
     "metadata": {},
     "source": "N.B. Abstract Base Class"
    },
    {
     "cell_type": "code",
     "collapsed": false,
     "input": "from abc import ABCMeta, abstractmethod\nclass Donkey(object):\n    pass\nclass Horse:\n   __metaclass__ = ABCMeta\n\n   @abstractmethod\n   def neigh(self):\n       return \"i-go-go\"\n\n   @classmethod\n   def __subclasshook__(cls, C):\n       if cls is Horse:\n           if issubclass(C, Donkey):\n               return False\n           if isinstance(C, type):\n               if any(\"neigh\" in B.__dict__ for B in C.__mro__):\n                   return True\n           else:\n               if hasattr(C, \"neigh\"):\n                   return True\n       return NotImplemented",
     "language": "python",
     "metadata": {},
     "outputs": []
    },
    {
     "cell_type": "code",
     "collapsed": false,
     "input": "class Mare(Horse):\n   def neigh(self):\n       return '-'.join([super(Mare, self).neigh(), 'go-go'])",
     "language": "python",
     "metadata": {},
     "outputs": []
    },
    {
     "cell_type": "code",
     "collapsed": false,
     "input": "issubclass(Mare, Horse)",
     "language": "python",
     "metadata": {},
     "outputs": []
    },
    {
     "cell_type": "code",
     "collapsed": false,
     "input": "Mare().neigh()",
     "language": "python",
     "metadata": {},
     "outputs": []
    },
    {
     "cell_type": "code",
     "collapsed": false,
     "input": "class Mule(Horse, Donkey):\n   def neigh(self):\n       return super(Mule, self).neigh()",
     "language": "python",
     "metadata": {},
     "outputs": []
    },
    {
     "cell_type": "code",
     "collapsed": false,
     "input": "issubclass(Mule, Horse)",
     "language": "python",
     "metadata": {},
     "outputs": []
    },
    {
     "cell_type": "code",
     "collapsed": false,
     "input": "Mule().neigh()",
     "language": "python",
     "metadata": {},
     "outputs": []
    },
    {
     "cell_type": "code",
     "collapsed": false,
     "input": "class Elk(object):\n   def neigh(self):\n       return \"i-gu-gu\"",
     "language": "python",
     "metadata": {},
     "outputs": []
    },
    {
     "cell_type": "code",
     "collapsed": false,
     "input": "issubclass(Elk, Horse)",
     "language": "python",
     "metadata": {},
     "outputs": []
    },
    {
     "cell_type": "code",
     "collapsed": false,
     "input": "Elk().neigh()",
     "language": "python",
     "metadata": {},
     "outputs": []
    },
    {
     "cell_type": "code",
     "collapsed": false,
     "input": "class Locomotive(object):\n   pass\n\nHorse.register(Locomotive)",
     "language": "python",
     "metadata": {},
     "outputs": []
    },
    {
     "cell_type": "code",
     "collapsed": false,
     "input": "issubclass(Locomotive, Horse)",
     "language": "python",
     "metadata": {},
     "outputs": []
    },
    {
     "cell_type": "code",
     "collapsed": false,
     "input": "Locomotive().neigh()",
     "language": "python",
     "metadata": {},
     "outputs": []
    },
    {
     "cell_type": "code",
     "collapsed": false,
     "input": "class SphericalHorseInVacuum(Horse):\n    pass",
     "language": "python",
     "metadata": {},
     "outputs": []
    },
    {
     "cell_type": "code",
     "collapsed": false,
     "input": "issubclass(SphericalHorseInVacuum, Horse)",
     "language": "python",
     "metadata": {},
     "outputs": []
    },
    {
     "cell_type": "code",
     "collapsed": false,
     "input": "SphericalHorseInVacuum().neigh()",
     "language": "python",
     "metadata": {},
     "outputs": []
    },
    {
     "cell_type": "heading",
     "level": 2,
     "metadata": {},
     "source": "Generators"
    },
    {
     "cell_type": "markdown",
     "metadata": {},
     "source": "Generators are functions which are generate series of data instead of returning value."
    },
    {
     "cell_type": "code",
     "collapsed": false,
     "input": "couplet =  \"\"\"\n    {0} bottles of beer on the wall, {0} bottles of beer.\n    Take one down, pass it around, {1} bottles of beer on the wall.\"\"\"\ndef beer_on_the_wall():\n    n = 99\n    while n:\n        yield couplet.format(n, n - 1)\n        n -= 1",
     "language": "python",
     "metadata": {},
     "outputs": []
    },
    {
     "cell_type": "code",
     "collapsed": false,
     "input": "song = beer_on_the_wall()",
     "language": "python",
     "metadata": {},
     "outputs": []
    },
    {
     "cell_type": "code",
     "collapsed": false,
     "input": "song.next()",
     "language": "python",
     "metadata": {},
     "outputs": []
    },
    {
     "cell_type": "code",
     "collapsed": false,
     "input": "for i in range(97):\n    song.next()\n    \nsong.next()",
     "language": "python",
     "metadata": {},
     "outputs": []
    },
    {
     "cell_type": "code",
     "collapsed": false,
     "input": "song.next()",
     "language": "python",
     "metadata": {},
     "outputs": []
    },
    {
     "cell_type": "heading",
     "level": 3,
     "metadata": {},
     "source": "Generators as a Pipeline"
    },
    {
     "cell_type": "code",
     "collapsed": false,
     "input": "bottles = ('{0} bottles of beer on the wall'.format(i)\n                             for i in xrange(99, 0, -1))\nrepeated_beer = ('{0} {1}.'.format(i, ' '.join(i.split()[:4])) \n                                               for i in bottles)\ntaken_beer = ('{0}\\nTake 1 down'.format(i) for i in repeated_beer)\nopen_beer = ('{0},  pass it around'.format(i) for i in  taken_beer)\nleft_beer = ('{0}. {1} bottles of beer '\n             'on the wall'.format(i, int(i.split(' ', 1)[0]) - 1) \n                                                for i in open_beer)\nprint '\\n'.join(left_beer)",
     "language": "python",
     "metadata": {},
     "outputs": []
    },
    {
     "cell_type": "markdown",
     "metadata": {},
     "source": "![Generators as pipeline](https://s3-eu-west-1.amazonaws.com/uploads-eu.hipchat.com/15409/63331/q3mpikbh9u6emtp/pipeline.jpg)\n\n- At each step of the pipeline, we declare an operation that will be applied to the entire data set\n- Instead of focusing on the problem at a line-by-line level, you just break it down into big operations that operate on the whole dataset\n- This stile is more unix-like because we have separate utilities which perform separate complete tasks."
    },
    {
     "cell_type": "heading",
     "level": 3,
     "metadata": {},
     "source": "Important generators concepts"
    },
    {
     "cell_type": "markdown",
     "metadata": {},
     "source": "- Generators decouple iteration from the code that uses the results of the iteration\n\n- In the last example, we're performing a calculation on a sequence of lines\n\n- It doesn't matter where or how those lines are generated\n\n- Thus, we can plug any number of components together up front as long as they eventually produce a line sequence"
    },
    {
     "cell_type": "heading",
     "level": 3,
     "metadata": {},
     "source": "Generator shutdown"
    },
    {
     "cell_type": "code",
     "collapsed": false,
     "input": "def my_generator():\n    while 1:\n        yield 1\nmy_gen = my_generator()\nfor i, j in enumerate(my_gen):\n    if i > 2: my_gen.close()\n    print i, j",
     "language": "python",
     "metadata": {},
     "outputs": []
    },
    {
     "cell_type": "code",
     "collapsed": false,
     "input": "my_gen.next()",
     "language": "python",
     "metadata": {},
     "outputs": []
    },
    {
     "cell_type": "code",
     "collapsed": false,
     "input": "my_gen = my_generator()\nfor i, j in enumerate(my_gen):\n    if i > 2: \n        break\n    print i, j",
     "language": "python",
     "metadata": {},
     "outputs": []
    },
    {
     "cell_type": "code",
     "collapsed": false,
     "input": "my_gen.next()",
     "language": "python",
     "metadata": {},
     "outputs": []
    },
    {
     "cell_type": "markdown",
     "metadata": {},
     "source": "In the generator, ```GeneratorExit``` is raised"
    },
    {
     "cell_type": "code",
     "collapsed": false,
     "input": "def my_generator():\n    while 1:\n        try:\n            yield 1\n        except GeneratorExit, e:\n            print 'I am dying... +_+'\n            raise GeneratorExit\nmy_gen = my_generator()\nmy_gen.next()",
     "language": "python",
     "metadata": {},
     "outputs": []
    },
    {
     "cell_type": "code",
     "collapsed": false,
     "input": "my_gen.close()",
     "language": "python",
     "metadata": {},
     "outputs": []
    },
    {
     "cell_type": "markdown",
     "metadata": {},
     "source": "```close()``` is called when a generator is garbage-collected.\nThis means the generator\u2019s code gets one last chance to run before the generator is destroyed.\n"
    },
    {
     "cell_type": "code",
     "collapsed": false,
     "input": "my_gen = my_generator()\nmy_gen.next()\ndel my_gen",
     "language": "python",
     "metadata": {},
     "outputs": []
    },
    {
     "cell_type": "markdown",
     "metadata": {},
     "source": "- GeneratorExit Exception can't be ignored. RuntimeError will be raised otherwise.\n- Separate threads can not call .close() ValueError: will be raised otherwise\n- Generator can't be shutdowned with a signal. ValueError: will be raised otherwise"
    },
    {
     "cell_type": "heading",
     "level": 2,
     "metadata": {},
     "source": "Co-routines"
    },
    {
     "cell_type": "code",
     "collapsed": false,
     "input": "#TODO",
     "language": "python",
     "metadata": {},
     "outputs": []
    },
    {
     "cell_type": "code",
     "collapsed": false,
     "input": "def grep(pattern):\n    print \"Looking for %s\" % pattern\n    while True:\n        line = (yield)\n        if pattern in line:\n            print line\n\ngrepper = grep('value_1')\nfor i in range(25):\n    grepper.send('value_{0}'.format(i))\n    ",
     "language": "python",
     "metadata": {},
     "outputs": []
    },
    {
     "cell_type": "markdown",
     "metadata": {},
     "source": "Remembering to call .next() is easy to forget"
    },
    {
     "cell_type": "code",
     "collapsed": false,
     "input": "def coroutine(func):\n    def start(*args,**kwargs):\n        cr = func(*args,**kwargs)\n        cr.next()\n        return cr\n    return start\n\n@coroutine\ndef grep(pattern):\n    print \"Looking for %s\" % pattern\n    while True:\n        line = (yield)\n        if pattern in line:\n            print line\n\ngrepper = grep('value_1')\nfor i in range(25):\n    grepper.send('value_{0}'.format(i))",
     "language": "python",
     "metadata": {},
     "outputs": []
    },
    {
     "cell_type": "heading",
     "level": 3,
     "metadata": {},
     "source": "Closing a Coroutine"
    },
    {
     "cell_type": "code",
     "collapsed": false,
     "input": "grepper.close()",
     "language": "python",
     "metadata": {},
     "outputs": []
    },
    {
     "cell_type": "heading",
     "level": 3,
     "metadata": {},
     "source": "Throwing an Exception"
    },
    {
     "cell_type": "code",
     "collapsed": false,
     "input": "\ngrepper = grep('value_1')\nfor i in range(25):\n    grepper.send('value_{0}'.format(i))\ngrepper.throw(RuntimeError,\"You're hosed\")",
     "language": "python",
     "metadata": {},
     "outputs": []
    },
    {
     "cell_type": "code",
     "collapsed": false,
     "input": "@coroutine\ndef grep(pattern):\n    print \"Looking for %s\" % pattern\n    while True:\n        try:\n            line = (yield)\n        except RuntimeError, e:\n            print 'exception was raised', e\n        if pattern in line:\n            print line\n\ngrepper = grep('value_1')\nfor i in range(25):\n    grepper.send('value_{0}'.format(i))\ngrepper.throw(RuntimeError,\"You're hosed\")",
     "language": "python",
     "metadata": {},
     "outputs": []
    },
    {
     "cell_type": "heading",
     "level": 3,
     "metadata": {},
     "source": "Processing Pipelines"
    },
    {
     "cell_type": "markdown",
     "metadata": {},
     "source": "Coroutines can be used to set up pipes\n\n![coroutines](http://img715.imageshack.us/img715/788/coroutines1.png)"
    },
    {
     "cell_type": "code",
     "collapsed": false,
     "input": "@coroutine\ndef some_coroutine(*args, **kwargs):\n    print \"Looking for %s\" % pattern\n    while True:\n        line = (yield)\n        # do some action here\n        # ...\n        # ...\n        another_coroutine.send(line)\n        # ...",
     "language": "python",
     "metadata": {},
     "outputs": []
    },
    {
     "cell_type": "heading",
     "level": 3,
     "metadata": {},
     "source": "Filtering with coroutine"
    },
    {
     "cell_type": "markdown",
     "metadata": {},
     "source": "One can use coroutine as filter on pipeline\n\n![coroutine filter](http://img689.imageshack.us/img689/296/84990340.png)"
    },
    {
     "cell_type": "code",
     "collapsed": false,
     "input": "@coroutine\ndef filter_coroutine(*args, **kwargs):\n    print \"Looking for %s\" % pattern\n    while True:\n        line = (yield)\n        # do some action here\n        # ...\n        # ...\n        if some condition:\n            another_coroutine.send(line)\n        # ...",
     "language": "python",
     "metadata": {},
     "outputs": []
    },
    {
     "cell_type": "heading",
     "level": 3,
     "metadata": {},
     "source": "Broadcasting"
    },
    {
     "cell_type": "markdown",
     "metadata": {},
     "source": "With coroutines, you can send data to multiple destinations\n\n![branching](http://img833.imageshack.us/img833/9135/23447597.png)"
    },
    {
     "cell_type": "code",
     "collapsed": false,
     "input": "@coroutine\ndef fbroadcasting_coroutine(*args, **kwargs):\n    print \"Looking for %s\" % pattern\n    while True:\n        line = (yield)\n        # do some action here\n        # ...\n        # ...\n        for branch_coroutine in coroutine_list:\n            branch_coroutine.send(line)\n        # ...",
     "language": "python",
     "metadata": {},
     "outputs": []
    },
    {
     "cell_type": "markdown",
     "metadata": {},
     "source": "#### Key difference between Generators and Coroutines.  \nGenerators pull data through the pipe with iteration.  Coroutines push data into the pipeline with send()."
    },
    {
     "cell_type": "heading",
     "level": 3,
     "metadata": {},
     "source": "Delegating to a Subgenerator"
    },
    {
     "cell_type": "markdown",
     "metadata": {},
     "source": "PEP 380 adds the yield from expression, allowing a generator to delegate part of its operations to another generator. This allows a section of code containing \u2018yield\u2019 to be factored out and placed in another generator. Additionally, the subgenerator is allowed to return with a value, and the value is made available to the delegating generator.\nWhile designed primarily for use in delegating to a subgenerator, the ```yield from``` expression actually allows delegation to arbitrary subiterators.\nFor simple iterators, yield from iterable is essentially just a shortened form of \n\n    for item in iterable: \n        yield item\n\nFor example\n\n    def g(x):\n        yield from range(x, 0, -1)\n        yield from range(x)\n\n    list(g(5))\n\n[5, 4, 3, 2, 1, 0, 1, 2, 3, 4]\n\n"
    },
    {
     "cell_type": "markdown",
     "metadata": {},
     "source": "However, unlike an ordinary loop, yield from allows subgenerators to receive sent and thrown values directly from the calling scope, and return a final value to the outer generator:\n    \n    def accumulate(start=0):\n        tally = start\n        while 1:\n            next = yield\n            if next is None:\n                return tally\n            tally += next\n\n    def gather_tallies(tallies, start=0):\n        while 1:\n            tally = yield from accumulate()\n            tallies.append(tally)\n"
    },
    {
     "cell_type": "markdown",
     "metadata": {},
     "source": "    tallies = []\n    acc = gather_tallies(tallies)\n    next(acc) # Ensure the accumulator is ready to accept values\n    for i in range(10):\n         acc.send(i)\n\n    acc.send(None) # Finish the first tally\n    for i in range(5):\n        acc.send(i)\n\n    acc.send(None) # Finish the second tally\n    tallies\n\n[45, 10]\n"
    },
    {
     "cell_type": "markdown",
     "metadata": {},
     "source": "\nThe main principle driving this change is to allow even generators that are designed to be used with the send and throw methods to be split into multiple subgenerators as easily as a single large function can be split into multiple subfunctions."
    },
    {
     "cell_type": "heading",
     "level": 2,
     "metadata": {},
     "source": "Iterators"
    },
    {
     "cell_type": "code",
     "collapsed": false,
     "input": "class CustomIterator(object):\n    def __init__(self, limit):\n        self.limit = limit\n        self.i = 0\n    def __iter__(self):\n        return self\n    def next(self):\n        self.i += 1\n        if self.i > self.limit:\n            raise StopIteration\n        return self.i\n        \nmy_iterator = CustomIterator(5)\nfor i in my_iterator:\n    print i",
     "language": "python",
     "metadata": {},
     "outputs": []
    },
    {
     "cell_type": "code",
     "collapsed": false,
     "input": "# but what if we will try to iterate over it again\nfor i in my_iterator:\n    print i",
     "language": "python",
     "metadata": {},
     "outputs": []
    },
    {
     "cell_type": "code",
     "collapsed": false,
     "input": "class CustomIterator(object):\n    def __init__(self, limit):\n        self.limit = limit\n        self.i = 0\n    def __iter__(self):\n        self.i = 0\n        return self\n    def next(self):\n        self.i += 1\n        if self.i > self.limit:\n            raise StopIteration\n        return self.i\n\nmy_iterator = CustomIterator(5)\nfor i in my_iterator:\n    print i\n\nfor i in my_iterator:\n    print i",
     "language": "python",
     "metadata": {},
     "outputs": []
    },
    {
     "cell_type": "code",
     "collapsed": false,
     "input": "my_iterator = CustomIterator(3)\nfor i in my_iterator:\n    for j in my_iterator:\n        print i, j",
     "language": "python",
     "metadata": {},
     "outputs": []
    },
    {
     "cell_type": "code",
     "collapsed": false,
     "input": "class CustomIterator(object):\n    def __init__(self, limit):\n        self.limit = limit\n        self.i = 0\n    def next(self):\n        self.i += 1\n        if self.i > self.limit:\n            raise StopIteration\n        return self.i\n        \nclass CustomIteratorContainer(object):    \n    def __init__(self, limit):\n        self.limit = limit\n        self.i = 0\n    def __iter__(self):\n        return CustomIterator(self.limit)",
     "language": "python",
     "metadata": {},
     "outputs": []
    },
    {
     "cell_type": "code",
     "collapsed": false,
     "input": "my_iterator = CustomIteratorContainer(3)\nfor i in my_iterator:\n    for j in my_iterator:\n        print i, j",
     "language": "python",
     "metadata": {},
     "outputs": []
    },
    {
     "cell_type": "code",
     "collapsed": false,
     "input": "my_iterator = iter(CustomIteratorContainer(3))\nfor i in my_iterator:\n    print i",
     "language": "python",
     "metadata": {},
     "outputs": []
    },
    {
     "cell_type": "code",
     "collapsed": false,
     "input": "class CustomIterator(object):\n    def __init__(self, limit):\n        self.limit = limit\n        self.i = 0\n    def __iter__(self):\n        return self.__class__(self.limit)\n    def next(self):\n        self.i += 1\n        if self.i > self.limit:\n            raise StopIteration\n        return self.i",
     "language": "python",
     "metadata": {},
     "outputs": []
    },
    {
     "cell_type": "code",
     "collapsed": false,
     "input": "c = CustomIterator(3)\nfor i in c:\n    print i",
     "language": "python",
     "metadata": {},
     "outputs": []
    },
    {
     "cell_type": "code",
     "collapsed": false,
     "input": "# get iterator of iterator of iterator .... of iterator\nfor i in reduce(lambda x, y: iter(x), xrange(5), c):\n    print i",
     "language": "python",
     "metadata": {},
     "outputs": []
    },
    {
     "cell_type": "heading",
     "level": 3,
     "metadata": {},
     "source": "iter() can take a callable argument"
    },
    {
     "cell_type": "code",
     "collapsed": false,
     "input": "def foo():\n    i = [0] \n    def wrapped():\n        i[0]+=1\n        return i[0]\n    return wrapped\n\nfor c in iter(foo(), 3):\n    print c",
     "language": "python",
     "metadata": {},
     "outputs": []
    },
    {
     "cell_type": "heading",
     "level": 3,
     "metadata": {},
     "source": "next can take second argument"
    },
    {
     "cell_type": "raw",
     "metadata": {},
     "source": "```next(iterator[, default])```\n\nRetrieve the next item from the iterator by calling its ```next()``` method. If ```default``` is given, it is returned if the iterator is exhausted, otherwise ```StopIteration``` is raised."
    },
    {
     "cell_type": "code",
     "collapsed": false,
     "input": "next(iter([]))",
     "language": "python",
     "metadata": {},
     "outputs": []
    },
    {
     "cell_type": "code",
     "collapsed": false,
     "input": "next(iter([]), None)",
     "language": "python",
     "metadata": {},
     "outputs": []
    },
    {
     "cell_type": "heading",
     "level": 3,
     "metadata": {},
     "source": "Generators vs. Iterators"
    },
    {
     "cell_type": "markdown",
     "metadata": {},
     "source": "- A generator function is slightly different than an object that supports iteration\n\n- A generator is a one-time operation. You can iterate over the generated data once, but if you want to do it again, you have to call the generator function again.\n\n- This is different than a list (which you can iterate over as many times as you want)"
    },
    {
     "cell_type": "heading",
     "level": 3,
     "metadata": {},
     "source": "reusable generator"
    },
    {
     "cell_type": "code",
     "collapsed": false,
     "input": "def reusable_generator(func):\n    class Iter(object):\n        def __init__(self, *args, **kwargs):\n            self.args = args\n            self.kwargs = kwargs\n        def __iter__(self):\n            return func(*self.args, **self.kwargs)\n    return Iter",
     "language": "python",
     "metadata": {},
     "outputs": []
    },
    {
     "cell_type": "code",
     "collapsed": false,
     "input": "@reusable_generator\ndef foo():\n    [(yield i) for i in (1, 2, 3)]\n    \nfoo_ins = foo()\n[[i for i in foo_ins] for j in range(2)]",
     "language": "python",
     "metadata": {},
     "outputs": []
    },
    {
     "cell_type": "code",
     "collapsed": false,
     "input": "class Test(object):\n    @reusable_generator\n    def foo(self):\n        [(yield i) for i in (1, 2, 3)]\n        \n[i for i in Test().foo()]",
     "language": "python",
     "metadata": {},
     "outputs": []
    },
    {
     "cell_type": "code",
     "collapsed": false,
     "input": "def reusable_generator(func):\n    class WrappedIterator(object):\n        def __init__(self, *args, **kwargs):\n            self.args, self.kwargs = args, kwargs\n        def __iter__(self):\n            return func(*self.args, **self.kwargs)\n    class inner(object):\n        def __get__(self, instance, owner):\n            def wrapped(*args, **kwargs):\n                return WrappedIterator(instance, *args, **kwargs)\n            return wrapped\n    return inner()\n\n\nclass Test(object):\n    @reusable_generator\n    def foo(self):\n        [(yield i) for i in (1, 2, 3)]\n        \nd = Test().foo()\n[[i for i in d] for j in range(2)]",
     "language": "python",
     "metadata": {},
     "outputs": []
    },
    {
     "cell_type": "code",
     "collapsed": false,
     "input": "d = Test.foo(Test())\n[[i for i in d] for j in range(2)]",
     "language": "python",
     "metadata": {},
     "outputs": []
    },
    {
     "cell_type": "code",
     "collapsed": false,
     "input": "def reusable_generator(func):\n    class WrappedIterator(object):\n        def __init__(self, *args, **kwargs):\n            self.args, self.kwargs = args, kwargs\n        def __iter__(self):\n            return func(*self.args, **self.kwargs)\n    class inner(object):\n        def __call__(self, *args, **kwargs):\n            return WrappedIterator(*args, **kwargs) \n        def __get__(self, instance, owner):\n            if instance is None:\n                return self\n            def wrapped(*args, **kwargs):\n                return self(instance, *args, **kwargs)\n            return wrapped\n    inner.__name__ = func.__name__\n    return inner()\n\n\nclass Test(object):\n    @reusable_generator\n    def foo(self):\n        [(yield i) for i in (1, 2, 3)]\n        \n\n@reusable_generator\ndef foo():\n    [(yield i) for i in (1, 2, 3)]",
     "language": "python",
     "metadata": {},
     "outputs": []
    },
    {
     "cell_type": "code",
     "collapsed": false,
     "input": "d =  Test().foo()\n[[i for i in d] for j in range(2)]",
     "language": "python",
     "metadata": {},
     "outputs": []
    },
    {
     "cell_type": "code",
     "collapsed": false,
     "input": "d = Test.foo(Test())\n[[i for i in d] for j in range(2)]",
     "language": "python",
     "metadata": {},
     "outputs": []
    },
    {
     "cell_type": "code",
     "collapsed": false,
     "input": "foo_ins = foo()\n[[i for i in foo_ins] for j in range(2)]",
     "language": "python",
     "metadata": {},
     "outputs": []
    },
    {
     "cell_type": "code",
     "collapsed": false,
     "input": "def reusable_generator(func):\n    def wrapped(*args, **kwargs):\n        class Iter(object):\n            def __iter__(self):\n                return func(*args, **kwargs)\n        return Iter()\n    return wrapped\n\n\nclass Test(object):\n    @reusable_generator\n    def foo(self):\n        [(yield i) for i in (1, 2, 3)]\n        \n\n@reusable_generator\ndef foo():\n    [(yield i) for i in (1, 2, 3)]",
     "language": "python",
     "metadata": {},
     "outputs": []
    },
    {
     "cell_type": "code",
     "collapsed": false,
     "input": "d =  Test().foo()\n[[i for i in d] for j in range(2)]",
     "language": "python",
     "metadata": {},
     "outputs": []
    },
    {
     "cell_type": "code",
     "collapsed": false,
     "input": "d = Test.foo(Test())\n[[i for i in d] for j in range(2)]",
     "language": "python",
     "metadata": {},
     "outputs": []
    },
    {
     "cell_type": "code",
     "collapsed": false,
     "input": "foo_ins = foo()\n[[i for i in foo_ins] for j in range(2)]",
     "language": "python",
     "metadata": {},
     "outputs": []
    },
    {
     "cell_type": "code",
     "collapsed": false,
     "input": "from IPython.display import Image\ndef wat_generator():\n    while True:\n        for i in ['http://img213.imageshack.us/img213/3077/77663735.jpg',\n                  'http://img580.imageshack.us/img580/4312/32411151.jpg',\n                  'http://img803.imageshack.us/img803/4895/41730701.jpg',\n                  'http://img22.imageshack.us/img22/1668/49588801.jpg',\n                  'http://img803.imageshack.us/img803/6015/48104534.jpg',\n                  'http://img560.imageshack.us/img560/3059/86402809.jpg',\n                  'http://img15.imageshack.us/img15/2200/88668083.jpg',\n                  'http://img543.imageshack.us/img543/3853/44000662.jpg']:\n            yield Image(i)\n            \nwg = wat_generator()\nwg.next()\ndef wat():\n    return wg.next()",
     "language": "python",
     "metadata": {},
     "outputs": []
    }
   ],
   "metadata": {}
  }
 ]
}